{
  "nbformat": 4,
  "nbformat_minor": 0,
  "metadata": {
    "colab": {
      "provenance": [],
      "authorship_tag": "ABX9TyMJgMpZJTQ2G+bTunRgdofO",
      "include_colab_link": true
    },
    "kernelspec": {
      "name": "python3",
      "display_name": "Python 3"
    },
    "language_info": {
      "name": "python"
    }
  },
  "cells": [
    {
      "cell_type": "markdown",
      "metadata": {
        "id": "view-in-github",
        "colab_type": "text"
      },
      "source": [
        "<a href=\"https://colab.research.google.com/github/emilyrlong/OpenRefine4Collections/blob/main/VA_Collections_Data.ipynb\" target=\"_parent\"><img src=\"https://colab.research.google.com/assets/colab-badge.svg\" alt=\"Open In Colab\"/></a>"
      ]
    },
    {
      "cell_type": "markdown",
      "source": [
        "# V&A Collections Data\n",
        "\n",
        "This quick python notebook pulls data from the [V&A Collections API](https://developers.vam.ac.uk/guide/v2/welcome.html) for a tutorial on cleaning data in OpenRefine. "
      ],
      "metadata": {
        "id": "QmDy3SDTnDa7"
      }
    },
    {
      "cell_type": "code",
      "execution_count": 1,
      "metadata": {
        "id": "zB4ys3qPvxi_"
      },
      "outputs": [],
      "source": [
        "# Import required packages\n",
        "import requests\n",
        "import pandas as pd\n",
        "# import json\n",
        "from google.colab import files"
      ]
    },
    {
      "cell_type": "markdown",
      "source": [
        "## Choose Your Search\n",
        "\n",
        "We will search for objects with a material/technique of 'ceramic'. Run one of the sections below depending on if you want to see all ceramic objects or just the objects on display at V&A South Kensington."
      ],
      "metadata": {
        "id": "VJxuOPl5pCGC"
      }
    },
    {
      "cell_type": "code",
      "source": [
        "# Get a string for the V&A API for all ceramic objects\n",
        "base_string = \"https://api.vam.ac.uk/v2/objects/search?page_size=100&random=true&q_material_technique=ceramic'&response_format=csv&page=\""
      ],
      "metadata": {
        "id": "D_Lbu2xIop0O"
      },
      "execution_count": 8,
      "outputs": []
    },
    {
      "cell_type": "code",
      "source": [
        "# Get a string for the V&A API of all ceramic objects on display at South Ken\n",
        "base_string = \"https://api.vam.ac.uk/v2/objects/search?on_display_at=southken&page_size=100&random=true&q_material_technique=ceramic'&response_format=csv&page=\""
      ],
      "metadata": {
        "id": "F2caDQOFkce9"
      },
      "execution_count": 49,
      "outputs": []
    },
    {
      "cell_type": "markdown",
      "source": [
        "## Get Pages\n",
        "\n",
        "In the CSV format, we can only pull 100 records per page, so we will fetch multiple pages by adding a page number to the end of the base string. You'll need approximately 5 pages for the ceramics data."
      ],
      "metadata": {
        "id": "GcTbueNVpYFV"
      }
    },
    {
      "cell_type": "code",
      "source": [
        "# Update p to be the number of pages you need\n",
        "p = 5\n",
        "page_list = range(1,(p+1))"
      ],
      "metadata": {
        "id": "BpgQXnelhoBG"
      },
      "execution_count": 14,
      "outputs": []
    },
    {
      "cell_type": "markdown",
      "source": [
        "## Get Data\n",
        "\n",
        "Iterate over the pages and compile the data into one Pandas dataframe."
      ],
      "metadata": {
        "id": "TDRCz_21pqU_"
      }
    },
    {
      "cell_type": "code",
      "source": [
        "# If you are re-running this code, delete the va_obj dataframe first.\n",
        "del va_obj"
      ],
      "metadata": {
        "id": "OE9Rl0IUkQlB"
      },
      "execution_count": 15,
      "outputs": []
    },
    {
      "cell_type": "code",
      "source": [
        "# Note: This code may take a few minutes if you are pulling many pages\n",
        "\n",
        "# Iterate over the pages\n",
        "for i in page_list:\n",
        "  # Load a CSV of search results for objects at SK\n",
        "  object_df = pd.read_csv(base_string + str(i))\n",
        "  # If this is the first dataframe, save as a new sk one\n",
        "  if i == 1:\n",
        "    va_obj = object_df\n",
        "  # Otherwise join new dataframe to sk dataframe\n",
        "  else:\n",
        "    va_obj = pd.concat([va_obj,object_df])"
      ],
      "metadata": {
        "id": "_E6fIMxOXsw7"
      },
      "execution_count": 16,
      "outputs": []
    },
    {
      "cell_type": "code",
      "source": [
        "va_obj.head()"
      ],
      "metadata": {
        "colab": {
          "base_uri": "https://localhost:8080/",
          "height": 302
        },
        "id": "dDOmv3iOfNoq",
        "outputId": "2e35054b-333b-4a1c-b35b-0df8c1143826"
      },
      "execution_count": 17,
      "outputs": [
        {
          "output_type": "execute_result",
          "data": {
            "text/plain": [
              "  accessionNumber  accessionYear systemNumber objectType      _primaryTitle  \\\n",
              "0     S.1076-1996         1996.0     O1138401        Mug  Commemorative mug   \n",
              "1       S.22-2007         2007.0      O134196        Mug                NaN   \n",
              "2    T.252GG-1982         1982.0      O293289     Button                NaN   \n",
              "3     T.252D-1982         1982.0      O293318     Button                NaN   \n",
              "4     T.249Q-1982         1982.0      O293423     Button                NaN   \n",
              "\n",
              "   _primaryPlace _primaryMaker__name _primaryMaker__association  \\\n",
              "0       Cornwall      Leaper, Newlyn                     makers   \n",
              "1  Staffordshire             Unknown                        NaN   \n",
              "2  Great Britain           Lucie Rie         designer and maker   \n",
              "3  Great Britain           Lucie Rie         designer and maker   \n",
              "4  Great Britain           Lucie Rie         designer and maker   \n",
              "\n",
              "       _primaryDate _primaryImageId _sampleMaterial _sampleTechnique  \\\n",
              "0              1962      2017KM6460         ceramic          ceramic   \n",
              "1  mid 19th century      2017KL4867         ceramic          ceramic   \n",
              "2         1945-1948      2019MC0095         ceramic          forming   \n",
              "3         1945-1948      2019MC0095         ceramic          forming   \n",
              "4         1945-1948      2019MC0092         ceramic          forming   \n",
              "\n",
              "  _sampleStyle _currentLocation__displayName  _objectContentWarning  \\\n",
              "0          NaN                      In store                  False   \n",
              "1          NaN                      In store                  False   \n",
              "2          NaN                      In store                  False   \n",
              "3          NaN                      In store                  False   \n",
              "4          NaN                      In store                  False   \n",
              "\n",
              "   _imageContentWarning  \n",
              "0                 False  \n",
              "1                 False  \n",
              "2                 False  \n",
              "3                 False  \n",
              "4                 False  "
            ],
            "text/html": [
              "\n",
              "  <div id=\"df-47c245e2-0a72-4bbd-a835-0fde510930d4\">\n",
              "    <div class=\"colab-df-container\">\n",
              "      <div>\n",
              "<style scoped>\n",
              "    .dataframe tbody tr th:only-of-type {\n",
              "        vertical-align: middle;\n",
              "    }\n",
              "\n",
              "    .dataframe tbody tr th {\n",
              "        vertical-align: top;\n",
              "    }\n",
              "\n",
              "    .dataframe thead th {\n",
              "        text-align: right;\n",
              "    }\n",
              "</style>\n",
              "<table border=\"1\" class=\"dataframe\">\n",
              "  <thead>\n",
              "    <tr style=\"text-align: right;\">\n",
              "      <th></th>\n",
              "      <th>accessionNumber</th>\n",
              "      <th>accessionYear</th>\n",
              "      <th>systemNumber</th>\n",
              "      <th>objectType</th>\n",
              "      <th>_primaryTitle</th>\n",
              "      <th>_primaryPlace</th>\n",
              "      <th>_primaryMaker__name</th>\n",
              "      <th>_primaryMaker__association</th>\n",
              "      <th>_primaryDate</th>\n",
              "      <th>_primaryImageId</th>\n",
              "      <th>_sampleMaterial</th>\n",
              "      <th>_sampleTechnique</th>\n",
              "      <th>_sampleStyle</th>\n",
              "      <th>_currentLocation__displayName</th>\n",
              "      <th>_objectContentWarning</th>\n",
              "      <th>_imageContentWarning</th>\n",
              "    </tr>\n",
              "  </thead>\n",
              "  <tbody>\n",
              "    <tr>\n",
              "      <th>0</th>\n",
              "      <td>S.1076-1996</td>\n",
              "      <td>1996.0</td>\n",
              "      <td>O1138401</td>\n",
              "      <td>Mug</td>\n",
              "      <td>Commemorative mug</td>\n",
              "      <td>Cornwall</td>\n",
              "      <td>Leaper, Newlyn</td>\n",
              "      <td>makers</td>\n",
              "      <td>1962</td>\n",
              "      <td>2017KM6460</td>\n",
              "      <td>ceramic</td>\n",
              "      <td>ceramic</td>\n",
              "      <td>NaN</td>\n",
              "      <td>In store</td>\n",
              "      <td>False</td>\n",
              "      <td>False</td>\n",
              "    </tr>\n",
              "    <tr>\n",
              "      <th>1</th>\n",
              "      <td>S.22-2007</td>\n",
              "      <td>2007.0</td>\n",
              "      <td>O134196</td>\n",
              "      <td>Mug</td>\n",
              "      <td>NaN</td>\n",
              "      <td>Staffordshire</td>\n",
              "      <td>Unknown</td>\n",
              "      <td>NaN</td>\n",
              "      <td>mid 19th century</td>\n",
              "      <td>2017KL4867</td>\n",
              "      <td>ceramic</td>\n",
              "      <td>ceramic</td>\n",
              "      <td>NaN</td>\n",
              "      <td>In store</td>\n",
              "      <td>False</td>\n",
              "      <td>False</td>\n",
              "    </tr>\n",
              "    <tr>\n",
              "      <th>2</th>\n",
              "      <td>T.252GG-1982</td>\n",
              "      <td>1982.0</td>\n",
              "      <td>O293289</td>\n",
              "      <td>Button</td>\n",
              "      <td>NaN</td>\n",
              "      <td>Great Britain</td>\n",
              "      <td>Lucie Rie</td>\n",
              "      <td>designer and maker</td>\n",
              "      <td>1945-1948</td>\n",
              "      <td>2019MC0095</td>\n",
              "      <td>ceramic</td>\n",
              "      <td>forming</td>\n",
              "      <td>NaN</td>\n",
              "      <td>In store</td>\n",
              "      <td>False</td>\n",
              "      <td>False</td>\n",
              "    </tr>\n",
              "    <tr>\n",
              "      <th>3</th>\n",
              "      <td>T.252D-1982</td>\n",
              "      <td>1982.0</td>\n",
              "      <td>O293318</td>\n",
              "      <td>Button</td>\n",
              "      <td>NaN</td>\n",
              "      <td>Great Britain</td>\n",
              "      <td>Lucie Rie</td>\n",
              "      <td>designer and maker</td>\n",
              "      <td>1945-1948</td>\n",
              "      <td>2019MC0095</td>\n",
              "      <td>ceramic</td>\n",
              "      <td>forming</td>\n",
              "      <td>NaN</td>\n",
              "      <td>In store</td>\n",
              "      <td>False</td>\n",
              "      <td>False</td>\n",
              "    </tr>\n",
              "    <tr>\n",
              "      <th>4</th>\n",
              "      <td>T.249Q-1982</td>\n",
              "      <td>1982.0</td>\n",
              "      <td>O293423</td>\n",
              "      <td>Button</td>\n",
              "      <td>NaN</td>\n",
              "      <td>Great Britain</td>\n",
              "      <td>Lucie Rie</td>\n",
              "      <td>designer and maker</td>\n",
              "      <td>1945-1948</td>\n",
              "      <td>2019MC0092</td>\n",
              "      <td>ceramic</td>\n",
              "      <td>forming</td>\n",
              "      <td>NaN</td>\n",
              "      <td>In store</td>\n",
              "      <td>False</td>\n",
              "      <td>False</td>\n",
              "    </tr>\n",
              "  </tbody>\n",
              "</table>\n",
              "</div>\n",
              "      <button class=\"colab-df-convert\" onclick=\"convertToInteractive('df-47c245e2-0a72-4bbd-a835-0fde510930d4')\"\n",
              "              title=\"Convert this dataframe to an interactive table.\"\n",
              "              style=\"display:none;\">\n",
              "        \n",
              "  <svg xmlns=\"http://www.w3.org/2000/svg\" height=\"24px\"viewBox=\"0 0 24 24\"\n",
              "       width=\"24px\">\n",
              "    <path d=\"M0 0h24v24H0V0z\" fill=\"none\"/>\n",
              "    <path d=\"M18.56 5.44l.94 2.06.94-2.06 2.06-.94-2.06-.94-.94-2.06-.94 2.06-2.06.94zm-11 1L8.5 8.5l.94-2.06 2.06-.94-2.06-.94L8.5 2.5l-.94 2.06-2.06.94zm10 10l.94 2.06.94-2.06 2.06-.94-2.06-.94-.94-2.06-.94 2.06-2.06.94z\"/><path d=\"M17.41 7.96l-1.37-1.37c-.4-.4-.92-.59-1.43-.59-.52 0-1.04.2-1.43.59L10.3 9.45l-7.72 7.72c-.78.78-.78 2.05 0 2.83L4 21.41c.39.39.9.59 1.41.59.51 0 1.02-.2 1.41-.59l7.78-7.78 2.81-2.81c.8-.78.8-2.07 0-2.86zM5.41 20L4 18.59l7.72-7.72 1.47 1.35L5.41 20z\"/>\n",
              "  </svg>\n",
              "      </button>\n",
              "      \n",
              "  <style>\n",
              "    .colab-df-container {\n",
              "      display:flex;\n",
              "      flex-wrap:wrap;\n",
              "      gap: 12px;\n",
              "    }\n",
              "\n",
              "    .colab-df-convert {\n",
              "      background-color: #E8F0FE;\n",
              "      border: none;\n",
              "      border-radius: 50%;\n",
              "      cursor: pointer;\n",
              "      display: none;\n",
              "      fill: #1967D2;\n",
              "      height: 32px;\n",
              "      padding: 0 0 0 0;\n",
              "      width: 32px;\n",
              "    }\n",
              "\n",
              "    .colab-df-convert:hover {\n",
              "      background-color: #E2EBFA;\n",
              "      box-shadow: 0px 1px 2px rgba(60, 64, 67, 0.3), 0px 1px 3px 1px rgba(60, 64, 67, 0.15);\n",
              "      fill: #174EA6;\n",
              "    }\n",
              "\n",
              "    [theme=dark] .colab-df-convert {\n",
              "      background-color: #3B4455;\n",
              "      fill: #D2E3FC;\n",
              "    }\n",
              "\n",
              "    [theme=dark] .colab-df-convert:hover {\n",
              "      background-color: #434B5C;\n",
              "      box-shadow: 0px 1px 3px 1px rgba(0, 0, 0, 0.15);\n",
              "      filter: drop-shadow(0px 1px 2px rgba(0, 0, 0, 0.3));\n",
              "      fill: #FFFFFF;\n",
              "    }\n",
              "  </style>\n",
              "\n",
              "      <script>\n",
              "        const buttonEl =\n",
              "          document.querySelector('#df-47c245e2-0a72-4bbd-a835-0fde510930d4 button.colab-df-convert');\n",
              "        buttonEl.style.display =\n",
              "          google.colab.kernel.accessAllowed ? 'block' : 'none';\n",
              "\n",
              "        async function convertToInteractive(key) {\n",
              "          const element = document.querySelector('#df-47c245e2-0a72-4bbd-a835-0fde510930d4');\n",
              "          const dataTable =\n",
              "            await google.colab.kernel.invokeFunction('convertToInteractive',\n",
              "                                                     [key], {});\n",
              "          if (!dataTable) return;\n",
              "\n",
              "          const docLinkHtml = 'Like what you see? Visit the ' +\n",
              "            '<a target=\"_blank\" href=https://colab.research.google.com/notebooks/data_table.ipynb>data table notebook</a>'\n",
              "            + ' to learn more about interactive tables.';\n",
              "          element.innerHTML = '';\n",
              "          dataTable['output_type'] = 'display_data';\n",
              "          await google.colab.output.renderOutput(dataTable, element);\n",
              "          const docLink = document.createElement('div');\n",
              "          docLink.innerHTML = docLinkHtml;\n",
              "          element.appendChild(docLink);\n",
              "        }\n",
              "      </script>\n",
              "    </div>\n",
              "  </div>\n",
              "  "
            ]
          },
          "metadata": {},
          "execution_count": 17
        }
      ]
    },
    {
      "cell_type": "code",
      "source": [
        "sk_obj.shape"
      ],
      "metadata": {
        "colab": {
          "base_uri": "https://localhost:8080/"
        },
        "id": "DuqMb1lUfZFa",
        "outputId": "317b9e04-28b5-497c-cd77-521e29ee033a"
      },
      "execution_count": 18,
      "outputs": [
        {
          "output_type": "execute_result",
          "data": {
            "text/plain": [
              "(500, 16)"
            ]
          },
          "metadata": {},
          "execution_count": 18
        }
      ]
    },
    {
      "cell_type": "markdown",
      "source": [
        "## Investigate Materials & Locations Data"
      ],
      "metadata": {
        "id": "BhUKMrbWqPwT"
      }
    },
    {
      "cell_type": "code",
      "source": [
        "# Get counts by material\n",
        "material_types = sk_obj.groupby('_sampleMaterial')['_sampleMaterial'].count()\n",
        "material_types = material_types.to_frame()\n",
        "material_types"
      ],
      "metadata": {
        "id": "50Zz4IoKgDov",
        "colab": {
          "base_uri": "https://localhost:8080/",
          "height": 886
        },
        "outputId": "c7e27b99-4422-42ac-8288-793cf19a0223"
      },
      "execution_count": 23,
      "outputs": [
        {
          "output_type": "execute_result",
          "data": {
            "text/plain": [
              "                 _sampleMaterial\n",
              "_sampleMaterial                 \n",
              "Ceramic                       16\n",
              "Clay                           1\n",
              "Earthenware                    1\n",
              "Metal                          1\n",
              "Wood                           3\n",
              "ceramic                      371\n",
              "ceramic glaze                  1\n",
              "ceramic tile                   9\n",
              "clay                           6\n",
              "earthenware                    2\n",
              "enamel                         1\n",
              "glass                          5\n",
              "gold                           3\n",
              "leather                       23\n",
              "metal                          2\n",
              "plaster                        1\n",
              "porcelain                      1\n",
              "resin                          1\n",
              "shellac                        1\n",
              "silk (textile)                 1\n",
              "silver                         2\n",
              "stoneware                      1\n",
              "terracotta                     1\n",
              "tinplate                       1\n",
              "wood                           6\n",
              "wool                           1"
            ],
            "text/html": [
              "\n",
              "  <div id=\"df-91180dfe-5373-45d9-a133-a50e0ba65d25\">\n",
              "    <div class=\"colab-df-container\">\n",
              "      <div>\n",
              "<style scoped>\n",
              "    .dataframe tbody tr th:only-of-type {\n",
              "        vertical-align: middle;\n",
              "    }\n",
              "\n",
              "    .dataframe tbody tr th {\n",
              "        vertical-align: top;\n",
              "    }\n",
              "\n",
              "    .dataframe thead th {\n",
              "        text-align: right;\n",
              "    }\n",
              "</style>\n",
              "<table border=\"1\" class=\"dataframe\">\n",
              "  <thead>\n",
              "    <tr style=\"text-align: right;\">\n",
              "      <th></th>\n",
              "      <th>_sampleMaterial</th>\n",
              "    </tr>\n",
              "    <tr>\n",
              "      <th>_sampleMaterial</th>\n",
              "      <th></th>\n",
              "    </tr>\n",
              "  </thead>\n",
              "  <tbody>\n",
              "    <tr>\n",
              "      <th>Ceramic</th>\n",
              "      <td>16</td>\n",
              "    </tr>\n",
              "    <tr>\n",
              "      <th>Clay</th>\n",
              "      <td>1</td>\n",
              "    </tr>\n",
              "    <tr>\n",
              "      <th>Earthenware</th>\n",
              "      <td>1</td>\n",
              "    </tr>\n",
              "    <tr>\n",
              "      <th>Metal</th>\n",
              "      <td>1</td>\n",
              "    </tr>\n",
              "    <tr>\n",
              "      <th>Wood</th>\n",
              "      <td>3</td>\n",
              "    </tr>\n",
              "    <tr>\n",
              "      <th>ceramic</th>\n",
              "      <td>371</td>\n",
              "    </tr>\n",
              "    <tr>\n",
              "      <th>ceramic glaze</th>\n",
              "      <td>1</td>\n",
              "    </tr>\n",
              "    <tr>\n",
              "      <th>ceramic tile</th>\n",
              "      <td>9</td>\n",
              "    </tr>\n",
              "    <tr>\n",
              "      <th>clay</th>\n",
              "      <td>6</td>\n",
              "    </tr>\n",
              "    <tr>\n",
              "      <th>earthenware</th>\n",
              "      <td>2</td>\n",
              "    </tr>\n",
              "    <tr>\n",
              "      <th>enamel</th>\n",
              "      <td>1</td>\n",
              "    </tr>\n",
              "    <tr>\n",
              "      <th>glass</th>\n",
              "      <td>5</td>\n",
              "    </tr>\n",
              "    <tr>\n",
              "      <th>gold</th>\n",
              "      <td>3</td>\n",
              "    </tr>\n",
              "    <tr>\n",
              "      <th>leather</th>\n",
              "      <td>23</td>\n",
              "    </tr>\n",
              "    <tr>\n",
              "      <th>metal</th>\n",
              "      <td>2</td>\n",
              "    </tr>\n",
              "    <tr>\n",
              "      <th>plaster</th>\n",
              "      <td>1</td>\n",
              "    </tr>\n",
              "    <tr>\n",
              "      <th>porcelain</th>\n",
              "      <td>1</td>\n",
              "    </tr>\n",
              "    <tr>\n",
              "      <th>resin</th>\n",
              "      <td>1</td>\n",
              "    </tr>\n",
              "    <tr>\n",
              "      <th>shellac</th>\n",
              "      <td>1</td>\n",
              "    </tr>\n",
              "    <tr>\n",
              "      <th>silk (textile)</th>\n",
              "      <td>1</td>\n",
              "    </tr>\n",
              "    <tr>\n",
              "      <th>silver</th>\n",
              "      <td>2</td>\n",
              "    </tr>\n",
              "    <tr>\n",
              "      <th>stoneware</th>\n",
              "      <td>1</td>\n",
              "    </tr>\n",
              "    <tr>\n",
              "      <th>terracotta</th>\n",
              "      <td>1</td>\n",
              "    </tr>\n",
              "    <tr>\n",
              "      <th>tinplate</th>\n",
              "      <td>1</td>\n",
              "    </tr>\n",
              "    <tr>\n",
              "      <th>wood</th>\n",
              "      <td>6</td>\n",
              "    </tr>\n",
              "    <tr>\n",
              "      <th>wool</th>\n",
              "      <td>1</td>\n",
              "    </tr>\n",
              "  </tbody>\n",
              "</table>\n",
              "</div>\n",
              "      <button class=\"colab-df-convert\" onclick=\"convertToInteractive('df-91180dfe-5373-45d9-a133-a50e0ba65d25')\"\n",
              "              title=\"Convert this dataframe to an interactive table.\"\n",
              "              style=\"display:none;\">\n",
              "        \n",
              "  <svg xmlns=\"http://www.w3.org/2000/svg\" height=\"24px\"viewBox=\"0 0 24 24\"\n",
              "       width=\"24px\">\n",
              "    <path d=\"M0 0h24v24H0V0z\" fill=\"none\"/>\n",
              "    <path d=\"M18.56 5.44l.94 2.06.94-2.06 2.06-.94-2.06-.94-.94-2.06-.94 2.06-2.06.94zm-11 1L8.5 8.5l.94-2.06 2.06-.94-2.06-.94L8.5 2.5l-.94 2.06-2.06.94zm10 10l.94 2.06.94-2.06 2.06-.94-2.06-.94-.94-2.06-.94 2.06-2.06.94z\"/><path d=\"M17.41 7.96l-1.37-1.37c-.4-.4-.92-.59-1.43-.59-.52 0-1.04.2-1.43.59L10.3 9.45l-7.72 7.72c-.78.78-.78 2.05 0 2.83L4 21.41c.39.39.9.59 1.41.59.51 0 1.02-.2 1.41-.59l7.78-7.78 2.81-2.81c.8-.78.8-2.07 0-2.86zM5.41 20L4 18.59l7.72-7.72 1.47 1.35L5.41 20z\"/>\n",
              "  </svg>\n",
              "      </button>\n",
              "      \n",
              "  <style>\n",
              "    .colab-df-container {\n",
              "      display:flex;\n",
              "      flex-wrap:wrap;\n",
              "      gap: 12px;\n",
              "    }\n",
              "\n",
              "    .colab-df-convert {\n",
              "      background-color: #E8F0FE;\n",
              "      border: none;\n",
              "      border-radius: 50%;\n",
              "      cursor: pointer;\n",
              "      display: none;\n",
              "      fill: #1967D2;\n",
              "      height: 32px;\n",
              "      padding: 0 0 0 0;\n",
              "      width: 32px;\n",
              "    }\n",
              "\n",
              "    .colab-df-convert:hover {\n",
              "      background-color: #E2EBFA;\n",
              "      box-shadow: 0px 1px 2px rgba(60, 64, 67, 0.3), 0px 1px 3px 1px rgba(60, 64, 67, 0.15);\n",
              "      fill: #174EA6;\n",
              "    }\n",
              "\n",
              "    [theme=dark] .colab-df-convert {\n",
              "      background-color: #3B4455;\n",
              "      fill: #D2E3FC;\n",
              "    }\n",
              "\n",
              "    [theme=dark] .colab-df-convert:hover {\n",
              "      background-color: #434B5C;\n",
              "      box-shadow: 0px 1px 3px 1px rgba(0, 0, 0, 0.15);\n",
              "      filter: drop-shadow(0px 1px 2px rgba(0, 0, 0, 0.3));\n",
              "      fill: #FFFFFF;\n",
              "    }\n",
              "  </style>\n",
              "\n",
              "      <script>\n",
              "        const buttonEl =\n",
              "          document.querySelector('#df-91180dfe-5373-45d9-a133-a50e0ba65d25 button.colab-df-convert');\n",
              "        buttonEl.style.display =\n",
              "          google.colab.kernel.accessAllowed ? 'block' : 'none';\n",
              "\n",
              "        async function convertToInteractive(key) {\n",
              "          const element = document.querySelector('#df-91180dfe-5373-45d9-a133-a50e0ba65d25');\n",
              "          const dataTable =\n",
              "            await google.colab.kernel.invokeFunction('convertToInteractive',\n",
              "                                                     [key], {});\n",
              "          if (!dataTable) return;\n",
              "\n",
              "          const docLinkHtml = 'Like what you see? Visit the ' +\n",
              "            '<a target=\"_blank\" href=https://colab.research.google.com/notebooks/data_table.ipynb>data table notebook</a>'\n",
              "            + ' to learn more about interactive tables.';\n",
              "          element.innerHTML = '';\n",
              "          dataTable['output_type'] = 'display_data';\n",
              "          await google.colab.output.renderOutput(dataTable, element);\n",
              "          const docLink = document.createElement('div');\n",
              "          docLink.innerHTML = docLinkHtml;\n",
              "          element.appendChild(docLink);\n",
              "        }\n",
              "      </script>\n",
              "    </div>\n",
              "  </div>\n",
              "  "
            ]
          },
          "metadata": {},
          "execution_count": 23
        }
      ]
    },
    {
      "cell_type": "code",
      "source": [
        "# Get the counts by room - on display or in storage\n",
        "room_counts = sk_obj.groupby('_currentLocation__displayName')['_currentLocation__displayName'].count()\n",
        "room_counts"
      ],
      "metadata": {
        "id": "B3hCVZ4dX-da",
        "colab": {
          "base_uri": "https://localhost:8080/"
        },
        "outputId": "582d4369-341c-4e19-925c-c071dde3ed86"
      },
      "execution_count": 24,
      "outputs": [
        {
          "output_type": "execute_result",
          "data": {
            "text/plain": [
              "_currentLocation__displayName\n",
              "BTS                                                                                 1\n",
              "British Galleries, Room 122                                                         1\n",
              "British Galleries, Room 126                                                         1\n",
              "Cast Courts, The Ruddock Family Cast Court, Room 46A                                1\n",
              "Ceramics, Room 137, The Curtain Foundation Gallery                                 21\n",
              "Ceramics, Room 139, The Curtain Foundation Gallery                                  1\n",
              "Ceramics, Room 140, Factory Ceramics                                                1\n",
              "Ceramics, Room 143, The Timothy Sainsbury Gallery                                  19\n",
              "Ceramics, Room 145                                                                 13\n",
              "Design 1900 to Now, Room 74                                                         1\n",
              "Design 1900 to Now, Room 76                                                         1\n",
              "Hallyu! The Korean Wave                                                             1\n",
              "In Store                                                                           27\n",
              "In store                                                                          369\n",
              "In store at the V&A Wedgwood Collection, Barlaston                                  5\n",
              "Jewellery, Rooms 91 to 93  mezzanine, The William and Judith Bollinger Gallery      1\n",
              "Jewellery, Rooms 91, The William and Judith Bollinger Gallery                       1\n",
              "Prints & Drawings Study Room, level F                                               1\n",
              "V&A Wedgwood Collection, Gallery 1, 18th century displays                           2\n",
              "V&A Wedgwood Collection, Gallery 2, 19th to 21st century displays                   1\n",
              "V&A Wedgwood Collection, Temporary exhibitiion space                                1\n",
              "in store                                                                           28\n",
              "Name: _currentLocation__displayName, dtype: int64"
            ]
          },
          "metadata": {},
          "execution_count": 24
        }
      ]
    },
    {
      "cell_type": "markdown",
      "source": [
        "## Download the Data"
      ],
      "metadata": {
        "id": "6mA6I5F1qJ_Z"
      }
    },
    {
      "cell_type": "code",
      "source": [
        "# Download the csv file for the ceramic data\n",
        "va_obj.to_csv('VA_CeramicObjects.csv',index = False)\n",
        "files.download('VA_CeramicObjects.csv')"
      ],
      "metadata": {
        "colab": {
          "base_uri": "https://localhost:8080/",
          "height": 17
        },
        "id": "L4W2KdihhhkC",
        "outputId": "0533697f-d8be-427f-94f5-261c21f684a0"
      },
      "execution_count": 25,
      "outputs": [
        {
          "output_type": "display_data",
          "data": {
            "text/plain": [
              "<IPython.core.display.Javascript object>"
            ],
            "application/javascript": [
              "\n",
              "    async function download(id, filename, size) {\n",
              "      if (!google.colab.kernel.accessAllowed) {\n",
              "        return;\n",
              "      }\n",
              "      const div = document.createElement('div');\n",
              "      const label = document.createElement('label');\n",
              "      label.textContent = `Downloading \"${filename}\": `;\n",
              "      div.appendChild(label);\n",
              "      const progress = document.createElement('progress');\n",
              "      progress.max = size;\n",
              "      div.appendChild(progress);\n",
              "      document.body.appendChild(div);\n",
              "\n",
              "      const buffers = [];\n",
              "      let downloaded = 0;\n",
              "\n",
              "      const channel = await google.colab.kernel.comms.open(id);\n",
              "      // Send a message to notify the kernel that we're ready.\n",
              "      channel.send({})\n",
              "\n",
              "      for await (const message of channel.messages) {\n",
              "        // Send a message to notify the kernel that we're ready.\n",
              "        channel.send({})\n",
              "        if (message.buffers) {\n",
              "          for (const buffer of message.buffers) {\n",
              "            buffers.push(buffer);\n",
              "            downloaded += buffer.byteLength;\n",
              "            progress.value = downloaded;\n",
              "          }\n",
              "        }\n",
              "      }\n",
              "      const blob = new Blob(buffers, {type: 'application/binary'});\n",
              "      const a = document.createElement('a');\n",
              "      a.href = window.URL.createObjectURL(blob);\n",
              "      a.download = filename;\n",
              "      div.appendChild(a);\n",
              "      a.click();\n",
              "      div.remove();\n",
              "    }\n",
              "  "
            ]
          },
          "metadata": {}
        },
        {
          "output_type": "display_data",
          "data": {
            "text/plain": [
              "<IPython.core.display.Javascript object>"
            ],
            "application/javascript": [
              "download(\"download_ed3bfa93-4040-4319-90c5-9a66c4994ac1\", \"VA_CeramicObjects.csv\", 66466)"
            ]
          },
          "metadata": {}
        }
      ]
    }
  ]
}