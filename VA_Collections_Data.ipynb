{
  "nbformat": 4,
  "nbformat_minor": 0,
  "metadata": {
    "colab": {
      "provenance": [],
      "authorship_tag": "ABX9TyPHX6AC4FJ9GzHnnJNVEe1g",
      "include_colab_link": true
    },
    "kernelspec": {
      "name": "python3",
      "display_name": "Python 3"
    },
    "language_info": {
      "name": "python"
    }
  },
  "cells": [
    {
      "cell_type": "markdown",
      "metadata": {
        "id": "view-in-github",
        "colab_type": "text"
      },
      "source": [
        "<a href=\"https://colab.research.google.com/github/emilyrlong/OpenRefine4Collections/blob/main/VA_Collections_Data.ipynb\" target=\"_parent\"><img src=\"https://colab.research.google.com/assets/colab-badge.svg\" alt=\"Open In Colab\"/></a>"
      ]
    },
    {
      "cell_type": "markdown",
      "source": [
        "# V&A Collections Data\n",
        "\n",
        "This quick python notebook pulls data from the [V&A Collections API](https://developers.vam.ac.uk/guide/v2/welcome.html) for a tutorial on cleaning data in OpenRefine. "
      ],
      "metadata": {
        "id": "QmDy3SDTnDa7"
      }
    },
    {
      "cell_type": "code",
      "execution_count": 1,
      "metadata": {
        "id": "zB4ys3qPvxi_"
      },
      "outputs": [],
      "source": [
        "# Import required packages\n",
        "import requests\n",
        "import pandas as pd\n",
        "# import json\n",
        "from google.colab import files"
      ]
    },
    {
      "cell_type": "markdown",
      "source": [
        "## Choose Your Search\n",
        "\n",
        "We will search for objects with a material/technique of 'ceramic'. Run one of the sections below depending on if you want to see all ceramic objects or just the objects on display at V&A South Kensington."
      ],
      "metadata": {
        "id": "VJxuOPl5pCGC"
      }
    },
    {
      "cell_type": "code",
      "source": [
        "# Get a string for the V&A API for all ceramic objects\n",
        "base_string = \"https://api.vam.ac.uk/v2/objects/search?page_size=100&random=true&q_material_technique=ceramic'&response_format=csv&page=\""
      ],
      "metadata": {
        "id": "D_Lbu2xIop0O"
      },
      "execution_count": 13,
      "outputs": []
    },
    {
      "cell_type": "code",
      "source": [
        "# Get a string for the V&A API of all ceramic objects on display at South Ken\n",
        "base_string = \"https://api.vam.ac.uk/v2/objects/search?on_display_at=southken&page_size=100&random=true&q_material_technique=ceramic'&response_format=csv&page=\""
      ],
      "metadata": {
        "id": "F2caDQOFkce9"
      },
      "execution_count": 49,
      "outputs": []
    },
    {
      "cell_type": "markdown",
      "source": [
        "## Get Pages\n",
        "\n",
        "In the CSV format, we can only pull 100 records per page, so we will fetch multiple pages by adding a page number to the end of the base string. You'll need approximately 5 pages for the ceramics data."
      ],
      "metadata": {
        "id": "GcTbueNVpYFV"
      }
    },
    {
      "cell_type": "code",
      "source": [
        "# Update p to be the number of pages you need\n",
        "p = 5\n",
        "page_list = range(1,(p+1))"
      ],
      "metadata": {
        "id": "BpgQXnelhoBG"
      },
      "execution_count": 3,
      "outputs": []
    },
    {
      "cell_type": "markdown",
      "source": [
        "## Get Data\n",
        "\n",
        "Iterate over the pages and compile the data into one Pandas dataframe."
      ],
      "metadata": {
        "id": "TDRCz_21pqU_"
      }
    },
    {
      "cell_type": "code",
      "source": [
        "# If you are re-running this code, delete the va_obj dataframe first.\n",
        "del va_obj"
      ],
      "metadata": {
        "id": "OE9Rl0IUkQlB"
      },
      "execution_count": 14,
      "outputs": []
    },
    {
      "cell_type": "code",
      "source": [
        "# Note: This code may take a few minutes if you are pulling many pages\n",
        "\n",
        "# Iterate over the pages\n",
        "for i in page_list:\n",
        "  # Load a CSV of search results for objects at SK\n",
        "  object_df = pd.read_csv(base_string + str(i))\n",
        "  # If this is the first dataframe, save as a new sk one\n",
        "  if i == 1:\n",
        "    va_obj = object_df\n",
        "  # Otherwise join new dataframe to sk dataframe\n",
        "  else:\n",
        "    va_obj = pd.concat([va_obj,object_df])"
      ],
      "metadata": {
        "id": "_E6fIMxOXsw7"
      },
      "execution_count": 15,
      "outputs": []
    },
    {
      "cell_type": "code",
      "source": [
        "va_obj.head()"
      ],
      "metadata": {
        "colab": {
          "base_uri": "https://localhost:8080/",
          "height": 336
        },
        "id": "dDOmv3iOfNoq",
        "outputId": "4caf2d95-0399-46a5-84fa-8f707244ee22"
      },
      "execution_count": 11,
      "outputs": [
        {
          "output_type": "execute_result",
          "data": {
            "text/plain": [
              "  accessionNumber  accessionYear systemNumber objectType      _primaryTitle  \\\n",
              "0     S.1076-1996         1996.0     O1138401        Mug  Commemorative mug   \n",
              "1       S.22-2007         2007.0      O134196        Mug                NaN   \n",
              "2       C.59-2009         2009.0     O1140219       Bowl                NaN   \n",
              "3       C.57-2009         2009.0     O1140217        Jar                NaN   \n",
              "4    T.250KK-1982         1982.0      O276024     Button                NaN   \n",
              "\n",
              "    _primaryPlace _primaryMaker__name _primaryMaker__association  \\\n",
              "0        Cornwall      Leaper, Newlyn                     makers   \n",
              "1   Staffordshire             Unknown                        NaN   \n",
              "2  United Kingdom             Unknown                        NaN   \n",
              "3          London          Rie, Lucie                      maker   \n",
              "4   Great Britain           Lucie Rie         designer and maker   \n",
              "\n",
              "       _primaryDate _primaryImageId _sampleMaterial _sampleTechnique  \\\n",
              "0              1962      2017KM6460         ceramic          ceramic   \n",
              "1  mid 19th century      2017KL4867         ceramic          ceramic   \n",
              "2      20th century      2009CP8748         ceramic              NaN   \n",
              "3      20th century      2009CP8748         ceramic              NaN   \n",
              "4         1945-1948      2019MC0089         ceramic          forming   \n",
              "\n",
              "  _sampleStyle                      _currentLocation__displayName  \\\n",
              "0          NaN                                           In store   \n",
              "1          NaN                                           In store   \n",
              "2          NaN  Ceramics, Room 143, The Timothy Sainsbury Gallery   \n",
              "3          NaN  Ceramics, Room 143, The Timothy Sainsbury Gallery   \n",
              "4          NaN                                           In store   \n",
              "\n",
              "   _objectContentWarning  _imageContentWarning  \n",
              "0                  False                 False  \n",
              "1                  False                 False  \n",
              "2                  False                 False  \n",
              "3                  False                 False  \n",
              "4                  False                 False  "
            ],
            "text/html": [
              "\n",
              "  <div id=\"df-edccad00-5008-4d15-95b8-3f218b0a5d67\">\n",
              "    <div class=\"colab-df-container\">\n",
              "      <div>\n",
              "<style scoped>\n",
              "    .dataframe tbody tr th:only-of-type {\n",
              "        vertical-align: middle;\n",
              "    }\n",
              "\n",
              "    .dataframe tbody tr th {\n",
              "        vertical-align: top;\n",
              "    }\n",
              "\n",
              "    .dataframe thead th {\n",
              "        text-align: right;\n",
              "    }\n",
              "</style>\n",
              "<table border=\"1\" class=\"dataframe\">\n",
              "  <thead>\n",
              "    <tr style=\"text-align: right;\">\n",
              "      <th></th>\n",
              "      <th>accessionNumber</th>\n",
              "      <th>accessionYear</th>\n",
              "      <th>systemNumber</th>\n",
              "      <th>objectType</th>\n",
              "      <th>_primaryTitle</th>\n",
              "      <th>_primaryPlace</th>\n",
              "      <th>_primaryMaker__name</th>\n",
              "      <th>_primaryMaker__association</th>\n",
              "      <th>_primaryDate</th>\n",
              "      <th>_primaryImageId</th>\n",
              "      <th>_sampleMaterial</th>\n",
              "      <th>_sampleTechnique</th>\n",
              "      <th>_sampleStyle</th>\n",
              "      <th>_currentLocation__displayName</th>\n",
              "      <th>_objectContentWarning</th>\n",
              "      <th>_imageContentWarning</th>\n",
              "    </tr>\n",
              "  </thead>\n",
              "  <tbody>\n",
              "    <tr>\n",
              "      <th>0</th>\n",
              "      <td>S.1076-1996</td>\n",
              "      <td>1996.0</td>\n",
              "      <td>O1138401</td>\n",
              "      <td>Mug</td>\n",
              "      <td>Commemorative mug</td>\n",
              "      <td>Cornwall</td>\n",
              "      <td>Leaper, Newlyn</td>\n",
              "      <td>makers</td>\n",
              "      <td>1962</td>\n",
              "      <td>2017KM6460</td>\n",
              "      <td>ceramic</td>\n",
              "      <td>ceramic</td>\n",
              "      <td>NaN</td>\n",
              "      <td>In store</td>\n",
              "      <td>False</td>\n",
              "      <td>False</td>\n",
              "    </tr>\n",
              "    <tr>\n",
              "      <th>1</th>\n",
              "      <td>S.22-2007</td>\n",
              "      <td>2007.0</td>\n",
              "      <td>O134196</td>\n",
              "      <td>Mug</td>\n",
              "      <td>NaN</td>\n",
              "      <td>Staffordshire</td>\n",
              "      <td>Unknown</td>\n",
              "      <td>NaN</td>\n",
              "      <td>mid 19th century</td>\n",
              "      <td>2017KL4867</td>\n",
              "      <td>ceramic</td>\n",
              "      <td>ceramic</td>\n",
              "      <td>NaN</td>\n",
              "      <td>In store</td>\n",
              "      <td>False</td>\n",
              "      <td>False</td>\n",
              "    </tr>\n",
              "    <tr>\n",
              "      <th>2</th>\n",
              "      <td>C.59-2009</td>\n",
              "      <td>2009.0</td>\n",
              "      <td>O1140219</td>\n",
              "      <td>Bowl</td>\n",
              "      <td>NaN</td>\n",
              "      <td>United Kingdom</td>\n",
              "      <td>Unknown</td>\n",
              "      <td>NaN</td>\n",
              "      <td>20th century</td>\n",
              "      <td>2009CP8748</td>\n",
              "      <td>ceramic</td>\n",
              "      <td>NaN</td>\n",
              "      <td>NaN</td>\n",
              "      <td>Ceramics, Room 143, The Timothy Sainsbury Gallery</td>\n",
              "      <td>False</td>\n",
              "      <td>False</td>\n",
              "    </tr>\n",
              "    <tr>\n",
              "      <th>3</th>\n",
              "      <td>C.57-2009</td>\n",
              "      <td>2009.0</td>\n",
              "      <td>O1140217</td>\n",
              "      <td>Jar</td>\n",
              "      <td>NaN</td>\n",
              "      <td>London</td>\n",
              "      <td>Rie, Lucie</td>\n",
              "      <td>maker</td>\n",
              "      <td>20th century</td>\n",
              "      <td>2009CP8748</td>\n",
              "      <td>ceramic</td>\n",
              "      <td>NaN</td>\n",
              "      <td>NaN</td>\n",
              "      <td>Ceramics, Room 143, The Timothy Sainsbury Gallery</td>\n",
              "      <td>False</td>\n",
              "      <td>False</td>\n",
              "    </tr>\n",
              "    <tr>\n",
              "      <th>4</th>\n",
              "      <td>T.250KK-1982</td>\n",
              "      <td>1982.0</td>\n",
              "      <td>O276024</td>\n",
              "      <td>Button</td>\n",
              "      <td>NaN</td>\n",
              "      <td>Great Britain</td>\n",
              "      <td>Lucie Rie</td>\n",
              "      <td>designer and maker</td>\n",
              "      <td>1945-1948</td>\n",
              "      <td>2019MC0089</td>\n",
              "      <td>ceramic</td>\n",
              "      <td>forming</td>\n",
              "      <td>NaN</td>\n",
              "      <td>In store</td>\n",
              "      <td>False</td>\n",
              "      <td>False</td>\n",
              "    </tr>\n",
              "  </tbody>\n",
              "</table>\n",
              "</div>\n",
              "      <button class=\"colab-df-convert\" onclick=\"convertToInteractive('df-edccad00-5008-4d15-95b8-3f218b0a5d67')\"\n",
              "              title=\"Convert this dataframe to an interactive table.\"\n",
              "              style=\"display:none;\">\n",
              "        \n",
              "  <svg xmlns=\"http://www.w3.org/2000/svg\" height=\"24px\"viewBox=\"0 0 24 24\"\n",
              "       width=\"24px\">\n",
              "    <path d=\"M0 0h24v24H0V0z\" fill=\"none\"/>\n",
              "    <path d=\"M18.56 5.44l.94 2.06.94-2.06 2.06-.94-2.06-.94-.94-2.06-.94 2.06-2.06.94zm-11 1L8.5 8.5l.94-2.06 2.06-.94-2.06-.94L8.5 2.5l-.94 2.06-2.06.94zm10 10l.94 2.06.94-2.06 2.06-.94-2.06-.94-.94-2.06-.94 2.06-2.06.94z\"/><path d=\"M17.41 7.96l-1.37-1.37c-.4-.4-.92-.59-1.43-.59-.52 0-1.04.2-1.43.59L10.3 9.45l-7.72 7.72c-.78.78-.78 2.05 0 2.83L4 21.41c.39.39.9.59 1.41.59.51 0 1.02-.2 1.41-.59l7.78-7.78 2.81-2.81c.8-.78.8-2.07 0-2.86zM5.41 20L4 18.59l7.72-7.72 1.47 1.35L5.41 20z\"/>\n",
              "  </svg>\n",
              "      </button>\n",
              "      \n",
              "  <style>\n",
              "    .colab-df-container {\n",
              "      display:flex;\n",
              "      flex-wrap:wrap;\n",
              "      gap: 12px;\n",
              "    }\n",
              "\n",
              "    .colab-df-convert {\n",
              "      background-color: #E8F0FE;\n",
              "      border: none;\n",
              "      border-radius: 50%;\n",
              "      cursor: pointer;\n",
              "      display: none;\n",
              "      fill: #1967D2;\n",
              "      height: 32px;\n",
              "      padding: 0 0 0 0;\n",
              "      width: 32px;\n",
              "    }\n",
              "\n",
              "    .colab-df-convert:hover {\n",
              "      background-color: #E2EBFA;\n",
              "      box-shadow: 0px 1px 2px rgba(60, 64, 67, 0.3), 0px 1px 3px 1px rgba(60, 64, 67, 0.15);\n",
              "      fill: #174EA6;\n",
              "    }\n",
              "\n",
              "    [theme=dark] .colab-df-convert {\n",
              "      background-color: #3B4455;\n",
              "      fill: #D2E3FC;\n",
              "    }\n",
              "\n",
              "    [theme=dark] .colab-df-convert:hover {\n",
              "      background-color: #434B5C;\n",
              "      box-shadow: 0px 1px 3px 1px rgba(0, 0, 0, 0.15);\n",
              "      filter: drop-shadow(0px 1px 2px rgba(0, 0, 0, 0.3));\n",
              "      fill: #FFFFFF;\n",
              "    }\n",
              "  </style>\n",
              "\n",
              "      <script>\n",
              "        const buttonEl =\n",
              "          document.querySelector('#df-edccad00-5008-4d15-95b8-3f218b0a5d67 button.colab-df-convert');\n",
              "        buttonEl.style.display =\n",
              "          google.colab.kernel.accessAllowed ? 'block' : 'none';\n",
              "\n",
              "        async function convertToInteractive(key) {\n",
              "          const element = document.querySelector('#df-edccad00-5008-4d15-95b8-3f218b0a5d67');\n",
              "          const dataTable =\n",
              "            await google.colab.kernel.invokeFunction('convertToInteractive',\n",
              "                                                     [key], {});\n",
              "          if (!dataTable) return;\n",
              "\n",
              "          const docLinkHtml = 'Like what you see? Visit the ' +\n",
              "            '<a target=\"_blank\" href=https://colab.research.google.com/notebooks/data_table.ipynb>data table notebook</a>'\n",
              "            + ' to learn more about interactive tables.';\n",
              "          element.innerHTML = '';\n",
              "          dataTable['output_type'] = 'display_data';\n",
              "          await google.colab.output.renderOutput(dataTable, element);\n",
              "          const docLink = document.createElement('div');\n",
              "          docLink.innerHTML = docLinkHtml;\n",
              "          element.appendChild(docLink);\n",
              "        }\n",
              "      </script>\n",
              "    </div>\n",
              "  </div>\n",
              "  "
            ]
          },
          "metadata": {},
          "execution_count": 11
        }
      ]
    },
    {
      "cell_type": "code",
      "source": [
        "va_obj.shape"
      ],
      "metadata": {
        "colab": {
          "base_uri": "https://localhost:8080/"
        },
        "id": "DuqMb1lUfZFa",
        "outputId": "6101bc59-a318-4b43-e053-c20686501fda"
      },
      "execution_count": 16,
      "outputs": [
        {
          "output_type": "execute_result",
          "data": {
            "text/plain": [
              "(500, 16)"
            ]
          },
          "metadata": {},
          "execution_count": 16
        }
      ]
    },
    {
      "cell_type": "markdown",
      "source": [
        "## Investigate Materials & Locations Data"
      ],
      "metadata": {
        "id": "BhUKMrbWqPwT"
      }
    },
    {
      "cell_type": "code",
      "source": [
        "# Get counts by material\n",
        "material_types = va_obj.groupby('_sampleMaterial')['_sampleMaterial'].count()\n",
        "material_types = material_types.to_frame()\n",
        "material_types"
      ],
      "metadata": {
        "id": "50Zz4IoKgDov",
        "colab": {
          "base_uri": "https://localhost:8080/",
          "height": 824
        },
        "outputId": "8b11abc0-81b1-4ab9-8e81-292ae1b38bbe"
      },
      "execution_count": 17,
      "outputs": [
        {
          "output_type": "execute_result",
          "data": {
            "text/plain": [
              "                 _sampleMaterial\n",
              "_sampleMaterial                 \n",
              "Ceramic                       14\n",
              "Clay                           1\n",
              "Earthenware                    2\n",
              "Metal                          1\n",
              "Wood                           2\n",
              "ceramic                      376\n",
              "ceramic glaze                  1\n",
              "ceramic tile                   9\n",
              "clay                           6\n",
              "earthenware                    2\n",
              "glass                          5\n",
              "gold                           3\n",
              "leather                       24\n",
              "metal                          2\n",
              "plaster                        2\n",
              "porcelain                      1\n",
              "shellac                        1\n",
              "silk (textile)                 1\n",
              "silver                         2\n",
              "stoneware                      1\n",
              "terracotta                     1\n",
              "tinplate                       1\n",
              "wood                           6\n",
              "wool                           1"
            ],
            "text/html": [
              "\n",
              "  <div id=\"df-eeff368f-b3e9-4697-86da-47f45e6e90ea\">\n",
              "    <div class=\"colab-df-container\">\n",
              "      <div>\n",
              "<style scoped>\n",
              "    .dataframe tbody tr th:only-of-type {\n",
              "        vertical-align: middle;\n",
              "    }\n",
              "\n",
              "    .dataframe tbody tr th {\n",
              "        vertical-align: top;\n",
              "    }\n",
              "\n",
              "    .dataframe thead th {\n",
              "        text-align: right;\n",
              "    }\n",
              "</style>\n",
              "<table border=\"1\" class=\"dataframe\">\n",
              "  <thead>\n",
              "    <tr style=\"text-align: right;\">\n",
              "      <th></th>\n",
              "      <th>_sampleMaterial</th>\n",
              "    </tr>\n",
              "    <tr>\n",
              "      <th>_sampleMaterial</th>\n",
              "      <th></th>\n",
              "    </tr>\n",
              "  </thead>\n",
              "  <tbody>\n",
              "    <tr>\n",
              "      <th>Ceramic</th>\n",
              "      <td>14</td>\n",
              "    </tr>\n",
              "    <tr>\n",
              "      <th>Clay</th>\n",
              "      <td>1</td>\n",
              "    </tr>\n",
              "    <tr>\n",
              "      <th>Earthenware</th>\n",
              "      <td>2</td>\n",
              "    </tr>\n",
              "    <tr>\n",
              "      <th>Metal</th>\n",
              "      <td>1</td>\n",
              "    </tr>\n",
              "    <tr>\n",
              "      <th>Wood</th>\n",
              "      <td>2</td>\n",
              "    </tr>\n",
              "    <tr>\n",
              "      <th>ceramic</th>\n",
              "      <td>376</td>\n",
              "    </tr>\n",
              "    <tr>\n",
              "      <th>ceramic glaze</th>\n",
              "      <td>1</td>\n",
              "    </tr>\n",
              "    <tr>\n",
              "      <th>ceramic tile</th>\n",
              "      <td>9</td>\n",
              "    </tr>\n",
              "    <tr>\n",
              "      <th>clay</th>\n",
              "      <td>6</td>\n",
              "    </tr>\n",
              "    <tr>\n",
              "      <th>earthenware</th>\n",
              "      <td>2</td>\n",
              "    </tr>\n",
              "    <tr>\n",
              "      <th>glass</th>\n",
              "      <td>5</td>\n",
              "    </tr>\n",
              "    <tr>\n",
              "      <th>gold</th>\n",
              "      <td>3</td>\n",
              "    </tr>\n",
              "    <tr>\n",
              "      <th>leather</th>\n",
              "      <td>24</td>\n",
              "    </tr>\n",
              "    <tr>\n",
              "      <th>metal</th>\n",
              "      <td>2</td>\n",
              "    </tr>\n",
              "    <tr>\n",
              "      <th>plaster</th>\n",
              "      <td>2</td>\n",
              "    </tr>\n",
              "    <tr>\n",
              "      <th>porcelain</th>\n",
              "      <td>1</td>\n",
              "    </tr>\n",
              "    <tr>\n",
              "      <th>shellac</th>\n",
              "      <td>1</td>\n",
              "    </tr>\n",
              "    <tr>\n",
              "      <th>silk (textile)</th>\n",
              "      <td>1</td>\n",
              "    </tr>\n",
              "    <tr>\n",
              "      <th>silver</th>\n",
              "      <td>2</td>\n",
              "    </tr>\n",
              "    <tr>\n",
              "      <th>stoneware</th>\n",
              "      <td>1</td>\n",
              "    </tr>\n",
              "    <tr>\n",
              "      <th>terracotta</th>\n",
              "      <td>1</td>\n",
              "    </tr>\n",
              "    <tr>\n",
              "      <th>tinplate</th>\n",
              "      <td>1</td>\n",
              "    </tr>\n",
              "    <tr>\n",
              "      <th>wood</th>\n",
              "      <td>6</td>\n",
              "    </tr>\n",
              "    <tr>\n",
              "      <th>wool</th>\n",
              "      <td>1</td>\n",
              "    </tr>\n",
              "  </tbody>\n",
              "</table>\n",
              "</div>\n",
              "      <button class=\"colab-df-convert\" onclick=\"convertToInteractive('df-eeff368f-b3e9-4697-86da-47f45e6e90ea')\"\n",
              "              title=\"Convert this dataframe to an interactive table.\"\n",
              "              style=\"display:none;\">\n",
              "        \n",
              "  <svg xmlns=\"http://www.w3.org/2000/svg\" height=\"24px\"viewBox=\"0 0 24 24\"\n",
              "       width=\"24px\">\n",
              "    <path d=\"M0 0h24v24H0V0z\" fill=\"none\"/>\n",
              "    <path d=\"M18.56 5.44l.94 2.06.94-2.06 2.06-.94-2.06-.94-.94-2.06-.94 2.06-2.06.94zm-11 1L8.5 8.5l.94-2.06 2.06-.94-2.06-.94L8.5 2.5l-.94 2.06-2.06.94zm10 10l.94 2.06.94-2.06 2.06-.94-2.06-.94-.94-2.06-.94 2.06-2.06.94z\"/><path d=\"M17.41 7.96l-1.37-1.37c-.4-.4-.92-.59-1.43-.59-.52 0-1.04.2-1.43.59L10.3 9.45l-7.72 7.72c-.78.78-.78 2.05 0 2.83L4 21.41c.39.39.9.59 1.41.59.51 0 1.02-.2 1.41-.59l7.78-7.78 2.81-2.81c.8-.78.8-2.07 0-2.86zM5.41 20L4 18.59l7.72-7.72 1.47 1.35L5.41 20z\"/>\n",
              "  </svg>\n",
              "      </button>\n",
              "      \n",
              "  <style>\n",
              "    .colab-df-container {\n",
              "      display:flex;\n",
              "      flex-wrap:wrap;\n",
              "      gap: 12px;\n",
              "    }\n",
              "\n",
              "    .colab-df-convert {\n",
              "      background-color: #E8F0FE;\n",
              "      border: none;\n",
              "      border-radius: 50%;\n",
              "      cursor: pointer;\n",
              "      display: none;\n",
              "      fill: #1967D2;\n",
              "      height: 32px;\n",
              "      padding: 0 0 0 0;\n",
              "      width: 32px;\n",
              "    }\n",
              "\n",
              "    .colab-df-convert:hover {\n",
              "      background-color: #E2EBFA;\n",
              "      box-shadow: 0px 1px 2px rgba(60, 64, 67, 0.3), 0px 1px 3px 1px rgba(60, 64, 67, 0.15);\n",
              "      fill: #174EA6;\n",
              "    }\n",
              "\n",
              "    [theme=dark] .colab-df-convert {\n",
              "      background-color: #3B4455;\n",
              "      fill: #D2E3FC;\n",
              "    }\n",
              "\n",
              "    [theme=dark] .colab-df-convert:hover {\n",
              "      background-color: #434B5C;\n",
              "      box-shadow: 0px 1px 3px 1px rgba(0, 0, 0, 0.15);\n",
              "      filter: drop-shadow(0px 1px 2px rgba(0, 0, 0, 0.3));\n",
              "      fill: #FFFFFF;\n",
              "    }\n",
              "  </style>\n",
              "\n",
              "      <script>\n",
              "        const buttonEl =\n",
              "          document.querySelector('#df-eeff368f-b3e9-4697-86da-47f45e6e90ea button.colab-df-convert');\n",
              "        buttonEl.style.display =\n",
              "          google.colab.kernel.accessAllowed ? 'block' : 'none';\n",
              "\n",
              "        async function convertToInteractive(key) {\n",
              "          const element = document.querySelector('#df-eeff368f-b3e9-4697-86da-47f45e6e90ea');\n",
              "          const dataTable =\n",
              "            await google.colab.kernel.invokeFunction('convertToInteractive',\n",
              "                                                     [key], {});\n",
              "          if (!dataTable) return;\n",
              "\n",
              "          const docLinkHtml = 'Like what you see? Visit the ' +\n",
              "            '<a target=\"_blank\" href=https://colab.research.google.com/notebooks/data_table.ipynb>data table notebook</a>'\n",
              "            + ' to learn more about interactive tables.';\n",
              "          element.innerHTML = '';\n",
              "          dataTable['output_type'] = 'display_data';\n",
              "          await google.colab.output.renderOutput(dataTable, element);\n",
              "          const docLink = document.createElement('div');\n",
              "          docLink.innerHTML = docLinkHtml;\n",
              "          element.appendChild(docLink);\n",
              "        }\n",
              "      </script>\n",
              "    </div>\n",
              "  </div>\n",
              "  "
            ]
          },
          "metadata": {},
          "execution_count": 17
        }
      ]
    },
    {
      "cell_type": "code",
      "source": [
        "# Get the counts by room - on display or in storage\n",
        "room_counts = va_obj.groupby('_currentLocation__displayName')['_currentLocation__displayName'].count()\n",
        "room_counts"
      ],
      "metadata": {
        "id": "B3hCVZ4dX-da",
        "colab": {
          "base_uri": "https://localhost:8080/"
        },
        "outputId": "c32a66c4-3afa-421a-c376-dc7a9c37b537"
      },
      "execution_count": 18,
      "outputs": [
        {
          "output_type": "execute_result",
          "data": {
            "text/plain": [
              "_currentLocation__displayName\n",
              "British Galleries, Room 126                                                         1\n",
              "Cast Courts, The Ruddock Family Cast Court, Room 46A                                2\n",
              "Ceramics, Room 137, The Curtain Foundation Gallery                                 16\n",
              "Ceramics, Room 139, The Curtain Foundation Gallery                                  1\n",
              "Ceramics, Room 140, Factory Ceramics                                                2\n",
              "Ceramics, Room 143, The Timothy Sainsbury Gallery                                  18\n",
              "Ceramics, Room 145                                                                 14\n",
              "China, Room 44, The T.T. Tsui Gallery                                               1\n",
              "Design 1900 to Now, Room 74                                                         1\n",
              "Design 1900 to Now, Room 76                                                         2\n",
              "Hallyu! The Korean Wave                                                             1\n",
              "In Store                                                                           29\n",
              "In store                                                                          366\n",
              "In store at the V&A Wedgwood Collection, Barlaston                                  1\n",
              "Islamic Middle East, Room 42, The Jameel Gallery                                    1\n",
              "Jewellery, Rooms 91 to 93  mezzanine, The William and Judith Bollinger Gallery      1\n",
              "Jewellery, Rooms 91, The William and Judith Bollinger Gallery                       1\n",
              "On display at Erasmus Darwin House, Lichfield                                       1\n",
              "Prints & Drawings Study Room, level C                                               2\n",
              "South Asia, Room 41                                                                 2\n",
              "V&A Wedgwood Collection, Gallery 1, 18th century displays                           3\n",
              "V&A Wedgwood Collection, Gallery 2, 19th to 21st century displays                   4\n",
              "in store                                                                           28\n",
              "Name: _currentLocation__displayName, dtype: int64"
            ]
          },
          "metadata": {},
          "execution_count": 18
        }
      ]
    },
    {
      "cell_type": "markdown",
      "source": [
        "## Check for Duplicates"
      ],
      "metadata": {
        "id": "QBu_57Dxtsci"
      }
    },
    {
      "cell_type": "code",
      "source": [
        "# Use the duplicated function to indicate 'True' if a row is a duplicate of another row in the dataset\n",
        "duplicates = va_obj.duplicated(keep='first')\n",
        "duplicates"
      ],
      "metadata": {
        "colab": {
          "base_uri": "https://localhost:8080/"
        },
        "id": "ep5EYbHUtvd1",
        "outputId": "887f2ed4-4c5d-4db0-b52c-6d0cbd05432a"
      },
      "execution_count": 23,
      "outputs": [
        {
          "output_type": "execute_result",
          "data": {
            "text/plain": [
              "0     False\n",
              "1     False\n",
              "2     False\n",
              "3     False\n",
              "4     False\n",
              "      ...  \n",
              "95    False\n",
              "96    False\n",
              "97    False\n",
              "98    False\n",
              "99    False\n",
              "Length: 500, dtype: bool"
            ]
          },
          "metadata": {},
          "execution_count": 23
        }
      ]
    },
    {
      "cell_type": "code",
      "source": [
        "# Drop the duplicates\n",
        "va_obj = va_obj[~duplicates]"
      ],
      "metadata": {
        "id": "mo3_k9tcugOW"
      },
      "execution_count": 33,
      "outputs": []
    },
    {
      "cell_type": "code",
      "source": [
        "va_obj.shape"
      ],
      "metadata": {
        "colab": {
          "base_uri": "https://localhost:8080/"
        },
        "id": "-gxaQpIMvYM2",
        "outputId": "b632656e-ccd1-4ace-fd77-3073aa2b0968"
      },
      "execution_count": 34,
      "outputs": [
        {
          "output_type": "execute_result",
          "data": {
            "text/plain": [
              "(434, 16)"
            ]
          },
          "metadata": {},
          "execution_count": 34
        }
      ]
    },
    {
      "cell_type": "markdown",
      "source": [
        "## Download the Data"
      ],
      "metadata": {
        "id": "6mA6I5F1qJ_Z"
      }
    },
    {
      "cell_type": "code",
      "source": [
        "# Download the csv file for the ceramic data\n",
        "va_obj.to_csv('VA_CeramicObjects.csv',index = False)\n",
        "files.download('VA_CeramicObjects.csv')"
      ],
      "metadata": {
        "colab": {
          "base_uri": "https://localhost:8080/",
          "height": 17
        },
        "id": "L4W2KdihhhkC",
        "outputId": "6924b095-2513-4f9e-c834-2475d8250ab8"
      },
      "execution_count": 35,
      "outputs": [
        {
          "output_type": "display_data",
          "data": {
            "text/plain": [
              "<IPython.core.display.Javascript object>"
            ],
            "application/javascript": [
              "\n",
              "    async function download(id, filename, size) {\n",
              "      if (!google.colab.kernel.accessAllowed) {\n",
              "        return;\n",
              "      }\n",
              "      const div = document.createElement('div');\n",
              "      const label = document.createElement('label');\n",
              "      label.textContent = `Downloading \"${filename}\": `;\n",
              "      div.appendChild(label);\n",
              "      const progress = document.createElement('progress');\n",
              "      progress.max = size;\n",
              "      div.appendChild(progress);\n",
              "      document.body.appendChild(div);\n",
              "\n",
              "      const buffers = [];\n",
              "      let downloaded = 0;\n",
              "\n",
              "      const channel = await google.colab.kernel.comms.open(id);\n",
              "      // Send a message to notify the kernel that we're ready.\n",
              "      channel.send({})\n",
              "\n",
              "      for await (const message of channel.messages) {\n",
              "        // Send a message to notify the kernel that we're ready.\n",
              "        channel.send({})\n",
              "        if (message.buffers) {\n",
              "          for (const buffer of message.buffers) {\n",
              "            buffers.push(buffer);\n",
              "            downloaded += buffer.byteLength;\n",
              "            progress.value = downloaded;\n",
              "          }\n",
              "        }\n",
              "      }\n",
              "      const blob = new Blob(buffers, {type: 'application/binary'});\n",
              "      const a = document.createElement('a');\n",
              "      a.href = window.URL.createObjectURL(blob);\n",
              "      a.download = filename;\n",
              "      div.appendChild(a);\n",
              "      a.click();\n",
              "      div.remove();\n",
              "    }\n",
              "  "
            ]
          },
          "metadata": {}
        },
        {
          "output_type": "display_data",
          "data": {
            "text/plain": [
              "<IPython.core.display.Javascript object>"
            ],
            "application/javascript": [
              "download(\"download_ce8746de-f714-408a-823d-903cddcff76b\", \"VA_CeramicObjects.csv\", 57723)"
            ]
          },
          "metadata": {}
        }
      ]
    }
  ]
}